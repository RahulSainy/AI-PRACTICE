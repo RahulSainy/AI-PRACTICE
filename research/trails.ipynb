{
 "cells": [
  {
   "cell_type": "code",
   "execution_count": 1,
   "metadata": {},
   "outputs": [],
   "source": [
    "# pip install pinecone-client==2.2.4"
   ]
  },
  {
   "cell_type": "code",
   "execution_count": 2,
   "metadata": {},
   "outputs": [
    {
     "name": "stderr",
     "output_type": "stream",
     "text": [
      "e:\\Course\\AI PRACTICE\\.venv\\Lib\\site-packages\\pinecone\\index.py:4: TqdmWarning: IProgress not found. Please update jupyter and ipywidgets. See https://ipywidgets.readthedocs.io/en/stable/user_install.html\n",
      "  from tqdm.autonotebook import tqdm\n"
     ]
    }
   ],
   "source": [
    "from langchain import PromptTemplate\n",
    "from langchain.chains import RetrievalQA\n",
    "from langchain.embeddings import HuggingFaceEmbeddings\n",
    "from langchain.vectorstores import Pinecone\n",
    "import pinecone\n",
    "from langchain.document_loaders import PyPDFLoader, DirectoryLoader\n",
    "from langchain.text_splitter import RecursiveCharacterTextSplitter\n",
    "from langchain.prompts import PromptTemplate\n",
    "from langchain.llms import CTransformers"
   ]
  },
  {
   "cell_type": "code",
   "execution_count": 3,
   "metadata": {},
   "outputs": [
    {
     "data": {
      "text/plain": [
       "True"
      ]
     },
     "execution_count": 3,
     "metadata": {},
     "output_type": "execute_result"
    }
   ],
   "source": [
    "from dotenv import load_dotenv\n",
    "import os\n",
    "\n",
    "load_dotenv()"
   ]
  },
  {
   "cell_type": "code",
   "execution_count": 4,
   "metadata": {},
   "outputs": [],
   "source": [
    "PINECONE_API_KEY = os.getenv('PINECONE_API_KEY')\n",
    "PINECONE_API_ENV = os.getenv('PINECONE_API_ENV')"
   ]
  },
  {
   "cell_type": "markdown",
   "metadata": {},
   "source": [
    "#Extract data from the PDF\n",
    "def load_pdf(data):\n",
    "    loader = DirectoryLoader(data,\n",
    "                    glob=\"*.pdf\",\n",
    "                    loader_cls=PyPDFLoader)\n",
    "    \n",
    "    documents = loader.load()\n",
    "\n",
    "    return documents"
   ]
  },
  {
   "cell_type": "code",
   "execution_count": 5,
   "metadata": {},
   "outputs": [],
   "source": [
    "#Extract data from the PDF\n",
    "def load_pdf(data):\n",
    "    loader = DirectoryLoader(data,\n",
    "                    glob=\"*.pdf\",\n",
    "                    loader_cls=PyPDFLoader)\n",
    "    \n",
    "    documents = loader.load()\n",
    "\n",
    "    return documents"
   ]
  },
  {
   "cell_type": "code",
   "execution_count": 6,
   "metadata": {},
   "outputs": [],
   "source": [
    "extracted_data = load_pdf(\"data/\")"
   ]
  },
  {
   "cell_type": "code",
   "execution_count": 7,
   "metadata": {},
   "outputs": [
    {
     "name": "stdout",
     "output_type": "stream",
     "text": [
      "[Document(page_content='Unit 1 - Information Security - www\\n Information Security (Rajiv Gandhi Proudyogiki Vishwavidyalaya)\\nScan to open on Studocu\\nStudocu is not sponsored or endorsed by any college or university\\n Unit 1 - Information Security - www\\n Information Security (Rajiv Gandhi Proudyogiki Vishwavidyalaya)\\nScan to open on Studocu\\nStudocu is not sponsored or endorsed by any college or university\\n Downloaded by ?  (freetoweb5@gmail.com)\\nlOMoARcPSD|39362990\\n', metadata={'source': 'data\\\\Unit1IS.pdf', 'page': 0}), Document(page_content=\"Please do not share these notes on apps like WhatsApp or Telegram.\\nThe revenue we generate from the ads we show on our website and app \\nfunds our services. The generated revenue helps us prepare new notes \\nand improve the quality of existing study materials , which are \\navailable on our website and mobile app.\\nIf you don't use our website and app directly, it will hurt our revenue, \\nand we might not be able to run the services and have to close them . \\nSo, it is a humble request for all to stop sharing the study material we \\nprovide on various apps. Please share the website's URL instead .\\nDownloaded by ?  (freetoweb5@gmail.com)\\nlOMoARcPSD|39362990\\n\", metadata={'source': 'data\\\\Unit1IS.pdf', 'page': 1}), Document(page_content='Downloaded from www.rgpvnotes.in, whatsapp: 8989595022\\nSubject Name:  Information Security   Subject Code: IT 801  \\nSubject Notes \\nSyllabus: \\nIntroduction: Fundamental Principles of Information Security-  Confidentiality, Availability, Integrity, Non-\\nRepudiation, The OSI Security Architecture, Security Attacks , Security Services, Security Mechanisms, a \\nModel for Network Security; Classical Encryption Techniques: Symm etric Cipher Model, Substitution \\nTechniques, Transposition Techniques, Steganography. \\n________________________________________________________________________ __________________ \\nCourse Objectives:  \\nThe objective of this course is to familiarize the student s with the fundamentals of information security and \\nthe methods used in protecting both the information present i n computer storage as well as information \\ntraveling over computer networks. \\n \\nUnit-I  \\nFundamental Principles of Information Security- Confidentia lity, Availability, Integrity \\nPrinciples of Information Security are depending upon Confi dentiality, Availability, and Integrity while it may \\nvary depending on the organization, information can be classif ied according to the following standard:  \\nPublic:  The Information in this class is openly available to the pub lic and does not require special handling.  \\nInternal: This is data shared within the organization, and should n ot be disclosed outside the organization. It \\nwill likely have some level of access control applied to it. \\n Confidential:  This can constitute general information about a client and  will have access control in place so \\nthat only a specific audience has access.  \\nSpecial Confidential:  The information in this class is not only confidentia l but has a still higher degree of \\nsensitivity around whom and how it’s accessed.   There are three fundamental principles unpinning \\ninformation security, or 3 lenses to look at information secu rity through. They are the CIA Triad of information \\nsecurity, and they are confidentiality, integrity, and availabil ity. The CIA triad is a well-known model for \\nsecurity policy development, used to identify problem areas and so lutions for information security.  \\nFigure 1.1: Fundamentals of Information Security \\nConfidentiality \\nConfidentiality is about privacy. The purpose of this prin ciple is to keep information hidden and make it only \\naccessible to people that is authorized to access it. For example, medical history is something want to be kept \\nprivate and only a few people, such as the doctor should have access to it. Typically some method of \\nfollow us on instagram for frequent updates: www.instagram.com/rgpvnotes.in Downloaded by ?  (freetoweb5@gmail.com)\\nlOMoARcPSD|39362990\\n', metadata={'source': 'data\\\\Unit1IS.pdf', 'page': 2}), Document(page_content='Downloaded from www.rgpvnotes.in, whatsapp: 8989595022\\nencryption and strict access control is utilized to help ensure information is kept confidential. Even with \\nencryption though, confidentiality can be easily breached. For example, a doctor calls by any full name in the \\nreception area of a medical clinic. If full name of any person is considered confidential. So this can be a breach \\nof confidentiality. Each employee in an organization must be aware of their responsibilities in maintaining the \\nconfidentiality of the information they have access to.  \\nIntegrity \\nIntegrity refers to the accuracy and the reliability of data or information in the system. One of the things that \\nhackers attempt to do makes unauthorized modifications or changes to data stored in a system. For example, \\na hacking attack happens on an e-commerce website and the hacker modifies the shipping postal code. The \\nintegrity of the banking records has been compromised. Corrupting data integrity isn’t limited to malicious \\nattacks. More often it happens very accidentally, users of an information system can simply make a mistake. \\nFor example, a database administrator is making a bulk update to an employee registry but mistakenly \\nupdates the wrong registry. The accuracy and reliability of the information have been corrupted and therefore \\nthe integrity has been compromised.  \\nAvailability \\nAvailability is the accessibility of information. This means that the people with authorization have access to \\ninformation when they need it. The most common example of this is an interruption in an authorized \\nusers access to information. One cause of interruption that most people are familiar with would be when a \\nhacker “takes down” a website with a DDoS attack. Like confidentiality and integrity, interruptions in \\navaila bility can happen without any intention of harming. For example, a cloud-based service like \\nAmazon Web Services (AWS) can experience technical outages that impact the availability of information \\nsystems using the platform. Other concerns can include power outages and natural disasters.  \\nNon Repudiation in IS \\nNon-repudiation is the assurance that someone cannot deny the validity of something. Non-repudiation is \\na legal concept that is widely used in information security and refers to a service, which provides proof of \\nthe origin of data and the integrity of the data. In other words, non-repudiation makes it very \\ndifficult to successfully deny who/where a message came from as well as the authenticity and integrity of that \\nmessage. \\nFigure 1.2: Non Repudiation in IS \\nfollow us on instagram for frequent updates: www.instagram.com/rgpvnotes.in\\n Downloaded by ?  (freetoweb5@gmail.com)\\nlOMoARcPSD|39362990\\n', metadata={'source': 'data\\\\Unit1IS.pdf', 'page': 3}), Document(page_content=\"Downloaded from www.rgpvnotes.in, whatsapp: 8989595022\\nDigital signatures can offer non-repudiation when it comes to online transactions, where it is crucial to ensure \\nthat a party to a contract or a communication can't deny the authenticity of their signature on a document or \\nsend the communication in the first place. In this context, non-repudiation refers to the ability to ensure that a \\nparty to a contract or communication must accept the authenticity of their signature on a document or \\nthe sending of a message. \\nThe OSI Security Architecture \\nTo assess effectively the security needs of an organization and to evaluate and choose various \\nsecurity products and policies, the manager responsible for security needs some systematic way of \\ndefining the requirements for security and characterizing the approaches to satisfying those requirements. \\nThis is difficult enough in a centralized data processing environment with the use of local and wide area \\nnetworks, the problems are compounded. \\nITU-T Recommendation of X.800, Security Architecture for OSI, defines such a systematic approach. The \\nOSI security architecture is useful to managers as a way of organizing the task of providing security. Because \\nthis architecture was developed as an international standard, computer and communications vendors \\nhave developed security features for their products and services that relate to this structured definition of \\nservices and mechanisms. The International Telecommunication Union (ITU) Telecommunication \\nStandardization Sector (ITU-T) is a United Nations-sponsored agency that develops standards, called \\nRecommendations, relating to telecommunications and to open systems interconnection (OSI).  The OSI \\nsecurity architecture was developed in the context of the OSI protocol architecture.  \\nFigure 1. 3: The OSI Security Architecture \\n The OSI security architecture focuses on security attacks, mechanis ms, and services. These can be defined \\nbriefly as follows: \\n\\uf0b7Security attack: Any action that compromises the security of inf ormation owned by an organization.\\n\\uf0b7Security mechanism: A process (or a device incorporating such a process) that is designed to detect,\\nprevent, or recover from a security attack.\\n\\uf0b7Security service: A processing or communication service that en hances the security of the data\\nprocessing systems and the information transfers of an organi zation. The services are intended to\\ncounter security attacks, and they make use of one or more security  mechanisms to provide the\\nservice.\\nfollow us on instagram for frequent updates: www.instagram.com/rgpvnotes.in Downloaded by ?  (freetoweb5@gmail.com)\\nlOMoARcPSD|39362990\\n\", metadata={'source': 'data\\\\Unit1IS.pdf', 'page': 4}), Document(page_content='Downloaded from www.rgpvnotes.in, whatsapp: 8989595022\\nSecurity Attacks: \\nActive and Passive attacks in Information Security \\nActive attacks: An active attack attempts to alter system resources or affect their operations. Active attacks \\ninvolve some modification of the data stream or the creation of  false statements. Types of active attacks are \\nas follows: \\n\\uf0b7Masquerade\\nA masquerade attack takes place when one entity pretends to be a differ ent entity. A Masquerade\\nattack involves one of the other forms of active attacks.\\nFigure 1.4: Masquerade attack \\n\\uf0b7Modification of messages\\nIt means that some portion of a message is altered or that message i s delayed or reordered to produce an \\nunauthorized effect. For exampl e, a message meaning “Allow the person to read confidential file X” is \\nmodified as “Allow Smith to read confidential  file X”.  \\nFigure 1.5: Modification of messages  \\n\\uf0b7Repudiation\\nThis attack is done by either sender or receiver. The sender or  receiver can deny later that he/she has\\nsent or received a message. For example, a customer asks his b ank “To transfer an amount to\\nfollow us on instagram for frequent updates: www.instagram.com/rgpvnotes.in\\n Downloaded by ?  (freetoweb5@gmail.com)\\nlOMoARcPSD|39362990\\n', metadata={'source': 'data\\\\Unit1IS.pdf', 'page': 5}), Document(page_content='Downloaded from www.rgpvnotes.in, whatsapp: 8989595022\\nsomeone” and later on the sender  (customer) denies that he had made such a request. This is \\nrepudiation.  \\n\\uf0b7Replay\\nIt involves the passive capture of a message and its subsequent t ransmission to produce an authorized\\neffect.\\nFigure 1.6: Reply of messages  \\n\\uf0b7Denial of Service\\nIt prevents the normal use of communication facilities. This at tack may have a specific target. For example, an \\nentity may suppress all messages directed to a particular destinati on. Another form of service denial is the \\ndisruption of entire networks by disabling the network o r by overloading it with messages to degrade \\nperformance.  \\nPassive attacks:  A passive attack attempts to learn or make use of information from t he system but does not \\naffect system resources. Passive Attacks are like eavesdropping o n or monitoring transmission. The goal of the \\nopponent is to obtain information that is being transmitt ed.  \\n\\uf0b7The release of message content\\nTelephonic conversation, an electronic mail message, or a trans ferred file may contain sensitive or \\nconfidential information and prevent an opponent from learnin g the contents of these transmissions.  \\nFigure 1.7: The release of message content \\nfollow us on instagram for frequent updates: www.instagram.com/rgpvnotes.in Downloaded by ?  (freetoweb5@gmail.com)\\nlOMoARcPSD|39362990\\n', metadata={'source': 'data\\\\Unit1IS.pdf', 'page': 6}), Document(page_content='Downloaded from www.rgpvnotes.in, whatsapp: 8989595022\\n\\uf0b7Traffic analysis\\nWay of masking (encryption) of information that the attacker even if captured the message could not \\nextract any information from the message. The opponent could determi ne the location and identity of \\ncommunicating host and could observe the frequency and lengt h of messages being exchanged. This \\ninformation might be useful in guessing the nature of the co mmunication that was taking place. \\nSecurity Services and Security Mechanisms \\nSecurity service is a service that enhances the security of data processing systems and information transfers a \\nsecurity service makes use of one or more security mechanisms. \\nFigure 1.8: Security Services  \\nAuthentication:  Assures recipient that the message is from the source that it cl aims to be from. \\nAccess Control: Controls that can have access to resource. \\nAvailability:  available to authorized entities for 24/7.  \\nConfidentiality: information is not made available to unauthorized individual. \\nIntegrity:  assurance that the message is unaltered. \\nNon-Repudiation:  protection against denial of sending or receiving in the commu nication. \\nSecurity Mechanisms: \\nSecurity mechanism is a mechanism that is designed to detect, prev ent, or recover from a security attack.  \\nTypes of Security Mechanism are: \\n1. Encipherment:\\nThis security mechanism deals with hiding and covering of data which helps data to become confidential. It is \\nachieved by applying mathematical calculations or algorithms wh ich reconstruct information into not readable \\nform. It is achieved by two famous techniques named Cryptography  and Encipherment. Level of data \\nencryption is dependent on the algorithm used for encipher ment. \\nfollow us on instagram for frequent updates: www.instagram.com/rgpvnotes.in\\n Downloaded by ?  (freetoweb5@gmail.com)\\nlOMoARcPSD|39362990\\n', metadata={'source': 'data\\\\Unit1IS.pdf', 'page': 7}), Document(page_content='Downloaded from www.rgpvnotes.in, whatsapp: 8989595022\\n2. Access Control:\\nThis mechanism is used to stop unattended access to data . It can be achieved by various techniques such as\\napplying passwords, using firewall, or just by adding PIN  to data.\\n3. Notarization:\\nThis security mechanism involves use of trusted third party i n communication. It acts as mediator between \\nsender and receiver so that if any chance of conflict is reduc ed. This mediator keeps record of requests made \\nby sender to receiver for later denied. \\n4. Data Integrity:\\nThis security mechanism is used by appending value to data to whi ch is created by data itself. It is similar to \\nsending packet of information known to both sending and receiv ing parties and checked before and after data \\nis received. When this packet or data which is appended is checked  and is the same while sending and \\nreceiving data integrity is maintained. \\n5. Authentication exchange:\\nThis security mechanism deals with identity to be known in co mmunication. This is achieved at the TCP/IP \\nlayer where two-way handshaking mechanism is used to ensure data is sent or not. \\n6. Bit stuffing:\\nThis security mechanism is used to add some extra bits into data w hich is being transmitted. It helps data to \\nbe checked at the receiving end and is achieved by even parity or Odd Parity. \\n7. Digital Signature:\\nThis security mechanism is achieved by adding digital data that is  not visible to eyes. It is form of electronic \\nsignature which is added by sender which is checked by receiver electronically. This mechanism is used to \\npreserve data which is not more confidential but sender’s ident ity is to be notified.  \\nfollow us on instagram for frequent updates: www.instagram.com/rgpvnotes.in Downloaded by ?  (freetoweb5@gmail.com)\\nlOMoARcPSD|39362990\\n', metadata={'source': 'data\\\\Unit1IS.pdf', 'page': 8}), Document(page_content='Downloaded from www.rgpvnotes.in, whatsapp: 8989595022\\nFigure 1.9: Security Mechanisms \\nRelation between security services and mechanisms \\nTable1.1: Relation between security services and mechanisms \\nA Model for Network Security  \\nWhen send any data from source side to destination side h ave to use some transfer method like the internet \\nor any other communication channel by which they are able to s end our message. The two parties, who are \\nthe principals in this transaction, must cooperate for the exchange to take place. When the transfer of data \\nhappened from one source to another source some logical info rmation channel is established between them \\nby defining a route through the internet from source to desti nation and by the cooperative use of \\ncommunication protocols (e.g., TCP/IP) by the two principals . Use of protocol for this logical information \\nchannel the main aspect security has come. Who may present a threat to  confidentiality, authenticity, and so \\non .All the technique for providing security have to component s: \\n1. A security-related transformation on the information to be sent .\\nfollow us on instagram for frequent updates: www.instagram.com/rgpvnotes.in\\n Downloaded by ?  (freetoweb5@gmail.com)\\nlOMoARcPSD|39362990\\n', metadata={'source': 'data\\\\Unit1IS.pdf', 'page': 9}), Document(page_content='Downloaded from www.rgpvnotes.in, whatsapp: 8989595022\\n2. Some secret information was shared by the two principals and, it is hoped, unknown to the\\nOpponent.\\nA trusted third party may be needed to achieve secure transmission. For example, a third party may be \\nresponsible for distributing the secret information to the  two principals while keeping it from any opponent. \\nOr a third party may be needed to arbitrate disputes between the two principals concerning the authenticity \\nof a message transmission. \\nThis model shows that there are four basic tasks in designin g a particular security service: \\n1. Design an algorithm for performing the security-related tran sformation.\\n2. Generate the secret information to be used with the algorithm.\\n3. Develop methods for the distribution and sharing of secret information.\\n4. Specify a protocol to be used by the two principals that  make use of the security algorithm and the\\nsecret information to achieve a particular security service.\\nSymmetric Cipher Model \\nSymmetric Cipher Model:  (uses a single secret key for both encryption & decryption) \\nFigure1.10: Symmetric Cipher Model \\nWhere, \\nK= Secret Key \\nX = Plaintext/Message \\nCiphertext Y = E(X,K) \\nDecrypted/Plaintext X = D(Y,K) \\nA symmetric encryption scheme has five components: \\nPlaintext:  This is the original intelligible message or data that is fed into the algorithm as input. \\nfollow us on instagram for frequent updates: www.instagram.com/rgpvnotes.in Downloaded by ?  (freetoweb5@gmail.com)\\nlOMoARcPSD|39362990\\n', metadata={'source': 'data\\\\Unit1IS.pdf', 'page': 10}), Document(page_content=\"Downloaded from www.rgpvnotes.in, whatsapp: 8989595022\\nEncryption algorithm:  The encryption algorithm performs various substitutions and transformations on the \\nplaintext. \\nSecret key:  The secret key is also input into the encryption algorithm. The key is a value independent of \\nthe plaintext and the algorithm. The algorithm will produce a different output depending on the specific key \\nbeing used at the time. The exact substitutions and transformations performed by the algorithm depend on \\nthe key. \\nCiphertext:  This is the scrambled message produced as output. It depends on the plaintext and the secret key. \\nFor a given  message,  two different  keys  will produce  two different  ciphertexts.  The ciphertext  is a random \\nstream of data and, as it stands, is unintelligible. \\nDecryption algorithm: This is essentially th e encryption algorith m run in reverse. It takes th e ciphertext and \\nthe secret key and produces th e original plaintext. \\nType s of Substitution Techniques \\n1. Mono-alphabetic Cipher:\\nPredictability of Caesar Cipher was its weakness once any key replacement of a single alphabet is known then,\\nthe whole message can  decipher and almost 25 attempts are required t o break it. In this technique, simply\\nsubstitute any random key for each alphabet letter, that is 'A' can be being replaced with any letters from B to\\nZ and 'B' can be changed to the rest of the alphabets but itse lf and so on. Let's say  substitute A with E that\\ndoesn't mean that B will be replaced by F. Mathematically, have 26  alphabet permutations which mean (26 x\\n25 x 24 x...2) which is about 4 x 1026 possibilities.\\nThere is only one problem with it and that is a short text created using this technique, a crypto analyst can try\\ndifferent attacks solely based on her knowledge of the Engli sh language. English analysts found that the\\nprobability of occurrence of the letter P is 13.33% which  highest followed by Z with 11.67% and the\\noccurrence of letters like C, K, L, N, or R is negligible. A cryptanalyst can try various alphabets in place of the\\ncipher-text alphabet or she can look for repeated patterns of  the word for is example word 'to' or 'is' occur\\nfrequently in English so she can try replacing all the T's and  O's from the cipher-text and deduce further to\\nthree letter words like 'the', 'and' and so on.\\n2. Homophonic Substitution Cipher:\\nThe Homophonic Substitution cipher is a substitution cip her in which single plaintext letters can be replaced\\nby any of several different ciphertext letters. They are generall y much more difficult to break than standard\\nsubstitution ciphers. In case of Homophonic Substituti on, map an alphabet with a set of fixed keys (more than\\none key). For instance, A can be replaced with H, J, O, P and B wi ll replace with any of the following inspite of\\nA's key set D, I, W, Z etc.\\n3. Polygram Substitution Cipher:\\nIn Polygram substitution cipher, instead of replacing on e plain-text alphabet simply replace a block of the\\nword with another block of a word. For example, 'INCLUDEHELP' w ill change to 'WDSAEQTGTAI' whereas\\n'HELP' will replace 'RYCV'. This is true that the last four letter s are the same but still different in both words.\\nfollow us on instagram for frequent updates: www.instagram.com/rgpvnotes.in\\n Downloaded by ?  (freetoweb5@gmail.com)\\nlOMoARcPSD|39362990\\n\", metadata={'source': 'data\\\\Unit1IS.pdf', 'page': 11}), Document(page_content='Downloaded from www.rgpvnotes.in, whatsapp: 8989595022\\nFigure1.11: Polygram substitution cipher \\n4. Polyalphabetic Substitution Cipher:\\nPoly alphabetic Substitution cipher was introduced by Leon B attista in the year 1568, and its prominent\\nexamples are the Vigenère cipher and Beaufort cipher.\\nUse multiple one-character keys, each key encrypts one plain-tex t character. This first key encrypts the first\\nplain-text character, the second key encrypt the second plain-text  character, and so on, after all, keys are used\\nthen they are recycled. If 50 one-letter keys, every 50th cha racter in the plain text would be placed with the\\nsame key and this number (in our case, 50) is the period of th e cipher.\\nThe key points of the polyalphabetic substation cipher are t he following:\\na. It uses a set of related mono-alphabetic substitution rules.\\nb. The rule used for transformations is determined by the key it  uses.\\nTransposition Techniques \\nTransposition technique is an encryption method that is achi eved by performing permutation over the plain \\ntext. Mapping plain text into ciphertext using the transpo sition technique is called transposition cipher. Will \\ndiscuss variations of transposition technique, and will  also observe how the transposition technique is \\ndifferent from the substitution technique. On the one hand, t he substitution technique substitutes a plain text \\nsymbol with a ciphertext symbol. On the other hand, the t ransposition technique executes permutation on the \\nplain text to obtain the ciphertext. \\nTransposition Techniques are : \\n1. Rail Fence Transposition\\n2. Columnar Transposition\\n3. Improved Columnar Transposition\\n4. Book Cipher/Running Key Cipher\\nRail Fence Cipher \\nThe rail fence cipher is the simplest transposition ciphe r. The steps to obtain cipher text using this technique \\nare as follow: \\nfollow us on instagram for frequent updates: www.instagram.com/rgpvnotes.in Downloaded by ?  (freetoweb5@gmail.com)\\nlOMoARcPSD|39362990\\n', metadata={'source': 'data\\\\Unit1IS.pdf', 'page': 12}), Document(page_content='Downloaded from www.rgpvnotes.in, whatsapp: 8989595022\\nStep 1:  The plain text is written as a sequence of diagonals. \\nStep 2:  Then, to obtain the ciphertext the text is read as a sequence of rows. \\nPlain Text:  meet me Tomorrow \\nNow, will write this plain text sequence wise in a diagonal form as  can see below: \\nLooking at the image,would get it why it got named rail fence because it appears like the rail fence. \\nOnce have written the message as a sequence of diagonals, to obtain the ciphertext out of it have to read it as \\na sequence of rows. So, reading the first row the first half  of ciphertext will be: \\nm e m t m r o  \\nreading the second row of the rail fence,will get the second h alf of the ciphertext: \\ne t e o o r w  \\nNow, to obtain the complete ciphertext combine both the halves  of ciphertext and the complete ciphertext \\nwill be: \\nCipher Text:  M E M T M R O E T E O O R W \\nRail fence cipher is easy to implement and even easy for a cry ptanalyst to break this technique. So, there was a \\nneed for a more complex technique. \\nColumnar Transposition Technique \\nThe columnar transposition cipher is more complex as compared t o the rail fence. The steps to obtain \\nciphertext using this technique are as follow: \\nStep 1:  The plain text is written in the rectangular matrix of the  initially defined size in a row by row pattern. \\nStep 2:  To obtain the ciphertext read the text written in a rectangular  matrix column by column. But have to \\npermute the order of column before reading it column by column . The obtained message is the ciphertext \\nmessage. \\nTo understand the columnar transposition let us take an example: \\nPlain text:  meet Tomorrow \\nfollow us on instagram for frequent updates: www.instagram.com/rgpvnotes.in\\n Downloaded by ?  (freetoweb5@gmail.com)\\nlOMoARcPSD|39362990\\n', metadata={'source': 'data\\\\Unit1IS.pdf', 'page': 13}), Document(page_content='Downloaded from www.rgpvnotes.in, whatsapp: 8989595022\\nNow, put the plain text in the rectangle of a predefined size. For our example, the predefined size of the \\nrectangle would be 3×4. As can see in the image below the plain text is placed in the rectangle of 3×4. And \\nhave also permuted the order of the column. \\nNow, to obtain the ciphertext have to read the plain text col umn by column as the sequence of permuted \\ncolumn order. So, the ciphertext obtained by the columnar tr ansposition technique in this example is: \\nCipher Text:  MTREOREMOTOW. \\nSimilar to the rail fence cipher, the columnar cipher can  be easily broken. The cryptanalyst only has to try a \\nfew permutations and combinations over the order of columns to  obtain the permuted order of column and \\nget the original message. So, a more sophisticated technique was req uired to strengthen the encryption. \\nColumnar Transposition Technique with Multiple Rounds \\nIt is similar to the basic columnar technique but is introd uced with an improvement. The basic columnar \\ntechnique is performed over the plain text but more than once. The steps for columnar technique with \\nmultiple rounds are as follow: \\nStep 1:  The plain text is written in the rectangle of predetermined si ze row by row. \\nStep 2:  To obtain the ciphertext, read the plain text in the rectang le, column by column. Before reading the \\ntext in rectangle column by column, permute the order of column s the same as in the basic columnar \\ntechnique. \\nStep 3:  To obtain the final ciphertext repeat the steps above multip le times. \\nLet us discuss one example of a columnar transposition techniq ue for better understanding. Will consider the \\nsame example of a basic columnar technique which will help in u nderstanding the complexity of the method: \\nPlain Text:  meet Tomorrow \\nLet us put this plain text in the rectangle of predefined size o f 3×4. Proceeding with the next step, the order of \\nthe columns of the matrix is permuted as can see in the image b elow: \\nfollow us on instagram for frequent updates: www.instagram.com/rgpvnotes.in Downloaded by ?  (freetoweb5@gmail.com)\\nlOMoARcPSD|39362990\\n', metadata={'source': 'data\\\\Unit1IS.pdf', 'page': 14}), Document(page_content='Downloaded from www.rgpvnotes.in, whatsapp: 8989595022\\nNow after the first round the ciphertext obtained is as fol low: \\nCipher Text round 1:   MTREOREMOTOW \\nNow, again have to put the ciphertext of round 1 in the rectan gle of size 3×4 row by row and permute the \\norder of columns before reading the ciphertext for round 2 . In the second round, the permuted order of the \\ncolumn is 2, 3, 1, 4. \\nSo, the obtained ciphertext for round 2  is MOOTRTREOEMW. In this way, can perform as many iterations as \\nrequired. Increasing the number of iterations increases the c omplexity of the techniques. \\nBook Cipher or Running Key Cipher \\nThe book cipher or the running key cipher works on the basic principle of a one-time pad cipher. In onetime \\npad cipher, the key is taken as long as the plain text and is  discarded after use. Every time a new key is taken \\nfor a new message. \\nThe improvement to the onetime pad in Book cipher is that t he key or the onetime pad is taken from the \\nbook. Let us discuss the steps: \\nStep 1:  Convert the plain text in numeric form consider A=0, B=1, C=3 … , Z=25  \\nStep 2:  Take a one-time pad or key from any of the books and convert it into numeric form also. But the key \\nmust be as long as the length of plain text. \\nStep 3:  Now add the numeric form of both plain text and key, each p lain text letter with corresponding key \\ntext letter. If the addition of any plain text letter with a corresponding key text letter is >26, then subtract it \\nwith 26. \\nLet us understand with the example: \\nPlain text:  Meet Tomorrow \\nKey is taken from the book: ANENCRYPTION. \\nfollow us on instagram for frequent updates: www.instagram.com/rgpvnotes.in\\n Downloaded by ?  (freetoweb5@gmail.com)\\nlOMoARcPSD|39362990\\n', metadata={'source': 'data\\\\Unit1IS.pdf', 'page': 15}), Document(page_content='Downloaded from www.rgpvnotes.in, whatsapp: 8989595022\\nNow have to convert this plain text and key text in numeric form and add them to get ciphertext as shown in \\nthe image below: \\nThe ciphertext  obtained is MRIGVFKDKZDJ. \\nSteganography  \\nSteganography is the art of concealing information. In compu ter science, it refers to hiding data within a \\nmessage or file. It serves a similar purpose to cryptography, but instead of encrypting data, steganography \\nsimply hides it from the user. Invisible ink is an example of  steganography that is unrelated to computers. \\n A person can write a message with clear or \"invisible\" ink that can only be seen when another ink or liquid is \\napplied to the paper. Similarly, in digital steganography, the goal is to hide information from users except \\nthose who are meant to see or hear it.  \\nDigital steganography usually involves hiding data inside i nnocuous files such as images, videos, and audio. \\nDigital steganography is one of the important components in the toolboxes of spies and malicious hackers, as \\nwell as human rights activists and political dissidents. Ste ganography is the use of various methods to hide \\ninformation from unwanted eyes.  \\nIn ancient times, steganography was mostly done physically. In  the centuries that followed, more modern \\nforms of steganography were invented, such as invisible inks.  Today, steganography has moved to the digital \\nworld. “Steganography by definition is the hiding of one fi le within another,” says Ira Winkler, lead security \\nprincipal at Trustwa ve. Steganography works by hiding information in a way that d oesn’t arouse suspicion. \\nOne of the most popular techniques is \\'least significant bi t (LSB) steganography. In this type of steganography, \\nthe information hider embeds the secret information in the least s ignificant bits of a media file.  \\nFor instance, in an image file each pixel is comprised of three bytes of data corresponding to the colors red, \\ngreen, and blue (some image formats allocate an additional fourth  byte to transparency, or ‘alpha’). LSB \\nsteganography changes the last bit of each of those bytes to hide one bit of data. So, to hide one megabyte of \\ndata using this method, need an eight-megabyte image file. Since mo difying the last bit of the pixel value \\ndoesn’t result in a visually perce ptible change to the picture, a person viewing the original  and the \\nsteganographically modified images won’t be able to tell the di fference.  \\nfollow us on instagram for frequent updates: www.instagram.com/rgpvnotes.in Downloaded by ?  (freetoweb5@gmail.com)\\nlOMoARcPSD|39362990\\n', metadata={'source': 'data\\\\Unit1IS.pdf', 'page': 16}), Document(page_content='Thank you for using our services. Please support us so that we can \\nimprove further and help more people. \\nhttps://www.rgpvnotes.in/support-us\\nIf you have questions or doubts, contact us on \\nWhatsApp at +91-8989595022 or by email at hey@rgpvnotes.in.\\nFor frequent updates, you can follow us on \\nInstagram: https://www.instagram.com/rgpvnotes.in/.\\nDownloaded by ?  (freetoweb5@gmail.com)\\nlOMoARcPSD|39362990\\n', metadata={'source': 'data\\\\Unit1IS.pdf', 'page': 17})]\n"
     ]
    }
   ],
   "source": [
    "print(extracted_data)"
   ]
  },
  {
   "cell_type": "code",
   "execution_count": 8,
   "metadata": {},
   "outputs": [],
   "source": [
    "#Create text chunks\n",
    "def text_split(extracted_data):\n",
    "    text_splitter = RecursiveCharacterTextSplitter(chunk_size=500, chunk_overlap = 20)\n",
    "    text_chunks = text_splitter.split_documents(extracted_data)\n",
    "\n",
    "    return text_chunks"
   ]
  },
  {
   "cell_type": "code",
   "execution_count": 9,
   "metadata": {},
   "outputs": [
    {
     "name": "stdout",
     "output_type": "stream",
     "text": [
      "length of text chunks:  76\n"
     ]
    }
   ],
   "source": [
    "text_chunks = text_split(extracted_data)\n",
    "print(\"length of text chunks: \", len(text_chunks))"
   ]
  },
  {
   "cell_type": "code",
   "execution_count": 10,
   "metadata": {},
   "outputs": [],
   "source": [
    "#download embedding mdoel\n",
    "\n",
    "def download_hugging_face_embeddings():\n",
    "    embeddings = HuggingFaceEmbeddings(model_name =\"sentence-transformers/all-MiniLM-L6-v2\")\n",
    "\n",
    "    return embeddings"
   ]
  },
  {
   "cell_type": "code",
   "execution_count": 11,
   "metadata": {},
   "outputs": [],
   "source": [
    "embeddings = download_hugging_face_embeddings()"
   ]
  },
  {
   "cell_type": "code",
   "execution_count": 12,
   "metadata": {},
   "outputs": [
    {
     "data": {
      "text/plain": [
       "HuggingFaceEmbeddings(client=SentenceTransformer(\n",
       "  (0): Transformer({'max_seq_length': 256, 'do_lower_case': False}) with Transformer model: BertModel \n",
       "  (1): Pooling({'word_embedding_dimension': 384, 'pooling_mode_cls_token': False, 'pooling_mode_mean_tokens': True, 'pooling_mode_max_tokens': False, 'pooling_mode_mean_sqrt_len_tokens': False})\n",
       "  (2): Normalize()\n",
       "), model_name='sentence-transformers/all-MiniLM-L6-v2', cache_folder=None, model_kwargs={}, encode_kwargs={})"
      ]
     },
     "execution_count": 12,
     "metadata": {},
     "output_type": "execute_result"
    }
   ],
   "source": [
    "embeddings"
   ]
  },
  {
   "cell_type": "code",
   "execution_count": 13,
   "metadata": {},
   "outputs": [],
   "source": [
    "#Initializing the Pinecone\n",
    "pinecone.init(api_key=PINECONE_API_KEY,\n",
    "              environment=PINECONE_API_ENV)\n",
    "\n",
    "index_name = \"courseoutline\"\n",
    "\n",
    "#Creating Embeddings for Each of The Text Chunks & storing\n",
    "docsearch=Pinecone.from_texts([t.page_content for t in text_chunks], embeddings, index_name=index_name)"
   ]
  },
  {
   "cell_type": "code",
   "execution_count": 14,
   "metadata": {},
   "outputs": [
    {
     "name": "stdout",
     "output_type": "stream",
     "text": [
      "Result [Document(page_content='different from the substitution technique. On the one hand, t he substitution technique substitutes a plain text \\nsymbol with a ciphertext symbol. On the other hand, the t ransposition technique executes permutation on the \\nplain text to obtain the ciphertext. \\nTransposition Techniques are : \\n1. Rail Fence Transposition\\n2. Columnar Transposition\\n3. Improved Columnar Transposition\\n4. Book Cipher/Running Key Cipher\\nRail Fence Cipher', metadata={}), Document(page_content='different from the substitution technique. On the one hand, t he substitution technique substitutes a plain text \\nsymbol with a ciphertext symbol. On the other hand, the t ransposition technique executes permutation on the \\nplain text to obtain the ciphertext. \\nTransposition Techniques are : \\n1. Rail Fence Transposition\\n2. Columnar Transposition\\n3. Improved Columnar Transposition\\n4. Book Cipher/Running Key Cipher\\nRail Fence Cipher', metadata={}), Document(page_content=\"The Homophonic Substitution cipher is a substitution cip her in which single plaintext letters can be replaced\\nby any of several different ciphertext letters. They are generall y much more difficult to break than standard\\nsubstitution ciphers. In case of Homophonic Substituti on, map an alphabet with a set of fixed keys (more than\\none key). For instance, A can be replaced with H, J, O, P and B wi ll replace with any of the following inspite of\\nA's key set D, I, W, Z etc.\", metadata={})]\n"
     ]
    }
   ],
   "source": [
    "#If we already have an index we can load it like this\n",
    "docsearch=Pinecone.from_existing_index(index_name, embeddings)\n",
    "\n",
    "query = \"Types of Substitution Techniques \"\n",
    "\n",
    "docs=docsearch.similarity_search(query, k=3)\n",
    "\n",
    "print(\"Result\", docs)"
   ]
  },
  {
   "cell_type": "code",
   "execution_count": 15,
   "metadata": {},
   "outputs": [],
   "source": [
    "prompt_template=\"\"\"\n",
    "Use the following pieces of information to answer the user's question.\n",
    "If you don't know the answer, just say that you don't know, don't try to make up an answer.\n",
    "\n",
    "Context: {context}\n",
    "Question: {question}\n",
    "\n",
    "Only return the helpful answer below and nothing else.\n",
    "Helpful answer:\n",
    "\"\"\""
   ]
  },
  {
   "cell_type": "code",
   "execution_count": 16,
   "metadata": {},
   "outputs": [],
   "source": [
    "PROMPT=PromptTemplate(template=prompt_template, input_variables=[\"context\", \"question\"])\n",
    "chain_type_kwargs={\"prompt\": PROMPT}"
   ]
  },
  {
   "cell_type": "code",
   "execution_count": 17,
   "metadata": {},
   "outputs": [],
   "source": [
    "llm=CTransformers(model=\"model/llama-2-7b-chat.ggmlv3.q4_0.bin\",\n",
    "                  model_type=\"llama\",\n",
    "                  config={'max_new_tokens':512,\n",
    "                          'temperature':0.8})"
   ]
  },
  {
   "cell_type": "code",
   "execution_count": 18,
   "metadata": {},
   "outputs": [],
   "source": [
    "qa=RetrievalQA.from_chain_type(\n",
    "    llm=llm, \n",
    "    chain_type=\"stuff\", \n",
    "    retriever=docsearch.as_retriever(search_kwargs={'k': 2}),\n",
    "    return_source_documents=True, \n",
    "    chain_type_kwargs=chain_type_kwargs)"
   ]
  },
  {
   "cell_type": "code",
   "execution_count": 19,
   "metadata": {},
   "outputs": [
    {
     "name": "stdout",
     "output_type": "stream",
     "text": [
      "Response :  The Mono-Alphabetic Cipher is a type of encryption technique where each letter in the plaintext is replaced by a different letter a fixed number of positions down the alphabet. For example, if the key is 3, then 'A' will be replaced by 'D', 'B' will be replaced by 'E', and so on. If the key is known, it is relatively easy to break the cipher by trying all possible combinations of letters until the correct one is found.\n"
     ]
    }
   ],
   "source": [
    "user_input=input(f\"Input Prompt:\")\n",
    "result=qa({\"query\": user_input})\n",
    "print(\"Response : \", result[\"result\"])"
   ]
  },
  {
   "cell_type": "code",
   "execution_count": null,
   "metadata": {},
   "outputs": [],
   "source": []
  }
 ],
 "metadata": {
  "kernelspec": {
   "display_name": ".venv",
   "language": "python",
   "name": "python3"
  },
  "language_info": {
   "codemirror_mode": {
    "name": "ipython",
    "version": 3
   },
   "file_extension": ".py",
   "mimetype": "text/x-python",
   "name": "python",
   "nbconvert_exporter": "python",
   "pygments_lexer": "ipython3",
   "version": "3.11.8"
  }
 },
 "nbformat": 4,
 "nbformat_minor": 2
}
